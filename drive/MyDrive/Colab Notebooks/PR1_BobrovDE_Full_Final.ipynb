{
 "cells": [
  {
   "cell_type": "markdown",
   "id": "0e8e8b7a",
   "metadata": {},
   "source": [
    "# Практическая работа: Предсказание цены ноутбуков + FastAPI + Git"
   ]
  },
  {
   "cell_type": "markdown",
   "id": "bb92e61e",
   "metadata": {},
   "source": [
    "## Установка зависимостей"
   ]
  },
  {
   "cell_type": "code",
   "execution_count": null,
   "id": "c5acb0d8",
   "metadata": {},
   "outputs": [],
   "source": [
    "!pip install xgboost scikit-learn joblib pandas numpy fastapi uvicorn pyngrok python-multipart"
   ]
  },
  {
   "cell_type": "markdown",
   "id": "95c33d34",
   "metadata": {},
   "source": [
    "## Подключение Google Диска"
   ]
  },
  {
   "cell_type": "code",
   "execution_count": null,
   "id": "83f78a22",
   "metadata": {},
   "outputs": [],
   "source": [
    "from google.colab import drive\n",
    "drive.mount('/content/drive')"
   ]
  },
  {
   "cell_type": "markdown",
   "id": "3001b8bd",
   "metadata": {},
   "source": [
    "## Загрузка данных, обучение модели и сохранение"
   ]
  },
  {
   "cell_type": "code",
   "execution_count": null,
   "id": "06afe771",
   "metadata": {},
   "outputs": [],
   "source": [
    "import pandas as pd\n",
    "from sklearn.model_selection import train_test_split\n",
    "from sklearn.pipeline import Pipeline\n",
    "from sklearn.compose import ColumnTransformer\n",
    "from sklearn.preprocessing import StandardScaler, OneHotEncoder\n",
    "from sklearn.impute import SimpleImputer\n",
    "from xgboost import XGBRegressor\n",
    "import joblib\n",
    "\n",
    "file_path = '/content/drive/MyDrive/BobrovPR1/Laptop_price.csv'\n",
    "df = pd.read_csv(file_path)\n",
    "\n",
    "X = df.drop('Price', axis=1)\n",
    "y = df['Price']\n",
    "\n",
    "X_train, X_test, y_train, y_test = train_test_split(X, y, test_size=0.2, random_state=42)\n",
    "\n",
    "num_features = ['Screen_Size', 'Weight', 'Processor_Speed', 'RAM_Size', 'Storage_Capacity']\n",
    "cat_features = ['Brand']\n",
    "\n",
    "num_transformer = Pipeline([\n",
    "    ('imputer', SimpleImputer(strategy='median')),\n",
    "    ('scaler', StandardScaler())\n",
    "])\n",
    "\n",
    "cat_transformer = Pipeline([\n",
    "    ('imputer', SimpleImputer(strategy='most_frequent')),\n",
    "    ('encoder', OneHotEncoder(handle_unknown='ignore'))\n",
    "])\n",
    "\n",
    "preprocessor = ColumnTransformer([\n",
    "    ('num', num_transformer, num_features),\n",
    "    ('cat', cat_transformer, cat_features)\n",
    "])\n",
    "\n",
    "pipeline = Pipeline([\n",
    "    ('preprocessor', preprocessor),\n",
    "    ('model', XGBRegressor(n_estimators=100, learning_rate=0.1, max_depth=5))\n",
    "])\n",
    "\n",
    "pipeline.fit(X_train, y_train)\n",
    "joblib.dump(pipeline, '/content/drive/MyDrive/BobrovPR1/laptop_price_model.pkl')"
   ]
  },
  {
   "cell_type": "markdown",
   "id": "3826ba6a",
   "metadata": {},
   "source": [
    "## Создание FastAPI приложения"
   ]
  },
  {
   "cell_type": "code",
   "execution_count": null,
   "id": "47057953",
   "metadata": {},
   "outputs": [],
   "source": [
    "%%writefile app.py\n",
    "from fastapi import FastAPI, File, UploadFile\n",
    "import pandas as pd\n",
    "import joblib\n",
    "from io import BytesIO\n",
    "\n",
    "app = FastAPI()\n",
    "model_path = \"/content/drive/MyDrive/BobrovPR1/laptop_price_model.pkl\"\n",
    "model = joblib.load(model_path)\n",
    "\n",
    "@app.post(\"/predict/\")\n",
    "async def predict(file: UploadFile = File(...)):\n",
    "    content = await file.read()\n",
    "    df = pd.read_csv(BytesIO(content))\n",
    "    predictions = model.predict(df)\n",
    "    return {\"predictions\": predictions.tolist()}"
   ]
  },
  {
   "cell_type": "markdown",
   "id": "d613f19a",
   "metadata": {},
   "source": [
    "## Генерация тестового CSV файла"
   ]
  },
  {
   "cell_type": "code",
   "execution_count": null,
   "id": "4a9b9d8e",
   "metadata": {},
   "outputs": [],
   "source": [
    "import pandas as pd\n",
    "data = [\n",
    "    [15.6, 2.2, 'Dell', 2.5, 8, 256],\n",
    "    [17.3, 2.5, 'HP', 2.8, 16, 1024]\n",
    "]\n",
    "columns = ['Screen_Size', 'Weight', 'Brand', 'Processor_Speed', 'RAM_Size', 'Storage_Capacity']\n",
    "df_test = pd.DataFrame(data, columns=columns)\n",
    "df_test.to_csv('/mnt/data/test_input_final_clean.csv', index=False)"
   ]
  },
  {
   "cell_type": "markdown",
   "id": "cc915661",
   "metadata": {},
   "source": [
    "## Запуск сервера и подключение ngrok"
   ]
  },
  {
   "cell_type": "code",
   "execution_count": null,
   "id": "512b5979",
   "metadata": {},
   "outputs": [],
   "source": [
    "!nohup uvicorn app:app --host 0.0.0.0 --port 8000 --reload > fastapi.log 2>&1 &"
   ]
  },
  {
   "cell_type": "code",
   "execution_count": null,
   "id": "ec402ee8",
   "metadata": {},
   "outputs": [],
   "source": [
    "from pyngrok import ngrok\n",
    "public_url = ngrok.connect(8000)\n",
    "print(\"API доступно по адресу:\", public_url)"
   ]
  },
  {
   "cell_type": "markdown",
   "id": "094902e7",
   "metadata": {},
   "source": [
    "## Версионирование проекта с Git (по инструкции)"
   ]
  },
  {
   "cell_type": "code",
   "execution_count": null,
   "id": "00a49023",
   "metadata": {},
   "outputs": [],
   "source": [
    "!git init"
   ]
  },
  {
   "cell_type": "code",
   "execution_count": null,
   "id": "fc8902f0",
   "metadata": {},
   "outputs": [],
   "source": [
    "!git add *.ipynb app.py *.pkl *.csv"
   ]
  },
  {
   "cell_type": "code",
   "execution_count": null,
   "id": "1bc666f4",
   "metadata": {},
   "outputs": [],
   "source": [
    "!git commit -m \"Первый коммит: ноутбук, модель и API\""
   ]
  },
  {
   "cell_type": "code",
   "execution_count": null,
   "id": "0a7e888b",
   "metadata": {},
   "outputs": [],
   "source": [
    "!git remote add origin https://github.com/BobrovDE-UBVT2304/BobrovDE.git"
   ]
  },
  {
   "cell_type": "code",
   "execution_count": null,
   "id": "d0918818",
   "metadata": {},
   "outputs": [],
   "source": [
    "!git branch -M main\n",
    "!git push -u origin main"
   ]
  }
 ],
 "metadata": {},
 "nbformat": 4,
 "nbformat_minor": 5
}