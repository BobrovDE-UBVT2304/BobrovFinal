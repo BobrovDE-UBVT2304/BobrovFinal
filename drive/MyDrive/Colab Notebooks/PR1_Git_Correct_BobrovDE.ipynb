{
 "cells": [
  {
   "cell_type": "markdown",
   "id": "3980fcf9",
   "metadata": {},
   "source": [
    "# Часть 3. Версионирование проекта с использованием Git (по инструкции)"
   ]
  },
  {
   "cell_type": "code",
   "execution_count": null,
   "id": "20823fc1",
   "metadata": {},
   "outputs": [],
   "source": [
    "# 1. Инициализация Git-репозитория\n",
    "!git init"
   ]
  },
  {
   "cell_type": "code",
   "execution_count": null,
   "id": "c2a8ca15",
   "metadata": {},
   "outputs": [],
   "source": [
    "# 2. Добавление всех нужных файлов (исключаем Google Диск)\n",
    "!git add *.ipynb app.py *.pkl *.csv"
   ]
  },
  {
   "cell_type": "code",
   "execution_count": null,
   "id": "b2f04936",
   "metadata": {},
   "outputs": [],
   "source": [
    "# 3. Фиксация изменений с комментарием\n",
    "!git commit -m \"Первый коммит: ноутбук, модель и API\" "
   ]
  },
  {
   "cell_type": "code",
   "execution_count": null,
   "id": "37f14816",
   "metadata": {},
   "outputs": [],
   "source": [
    "# 4. Привязка к удалённому репозиторию\n",
    "!git remote add origin https://github.com/BobrovDE-UBVT2304/BobrovDE.git"
   ]
  },
  {
   "cell_type": "code",
   "execution_count": null,
   "id": "305edd80",
   "metadata": {},
   "outputs": [],
   "source": [
    "# 5. Создание ветки main и отправка на GitHub\n",
    "!git branch -M main\n",
    "!git push -u origin main"
   ]
  },
  {
   "cell_type": "markdown",
   "id": "47be12bc",
   "metadata": {},
   "source": [
    "**Важно:** если GitHub запросит логин и пароль, нужно использовать GitHub Token вместо обычного пароля."
   ]
  }
 ],
 "metadata": {},
 "nbformat": 4,
 "nbformat_minor": 5
}